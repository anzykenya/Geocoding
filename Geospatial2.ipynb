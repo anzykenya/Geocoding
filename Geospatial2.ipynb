{
 "cells": [
  {
   "cell_type": "code",
   "execution_count": 1,
   "metadata": {},
   "outputs": [],
   "source": [
    "import pandas as pd\n",
    "import geopandas as gpd\n",
    "import numpy as np\n",
    "import folium\n",
    "from folium import Marker\n",
    "import warnings \n",
    "warnings.filterwarnings('ignore')"
   ]
  },
  {
   "cell_type": "code",
   "execution_count": 3,
   "metadata": {},
   "outputs": [],
   "source": [
    "from geopy.geocoders import Nominatim"
   ]
  },
  {
   "cell_type": "code",
   "execution_count": 8,
   "metadata": {},
   "outputs": [
    {
     "name": "stdout",
     "output_type": "stream",
     "text": [
      "1 17m 31.6878s S, 36 48m 51.4857s E\n",
      "Milimani Law Courts, Upperhill Close, Upper Hill, Nairobi, 40476, Kenya\n"
     ]
    }
   ],
   "source": [
    "geolocator = Nominatim(user_agent=\"Anzy\")\n",
    "location = geolocator.geocode(\"Milimani Law courts\")\n",
    "\n",
    "print(location.point)\n",
    "print(location.address)"
   ]
  },
  {
   "cell_type": "code",
   "execution_count": 9,
   "metadata": {},
   "outputs": [
    {
     "name": "stdout",
     "output_type": "stream",
     "text": [
      "Latitude: -1.2921355\n",
      "Longitude: 36.8143015941684\n"
     ]
    }
   ],
   "source": [
    "point = location.point\n",
    "print(\"Latitude:\", point.latitude)\n",
    "print(\"Longitude:\", point.longitude)"
   ]
  },
  {
   "cell_type": "code",
   "execution_count": 10,
   "metadata": {},
   "outputs": [
    {
     "data": {
      "text/html": [
       "<div>\n",
       "<style scoped>\n",
       "    .dataframe tbody tr th:only-of-type {\n",
       "        vertical-align: middle;\n",
       "    }\n",
       "\n",
       "    .dataframe tbody tr th {\n",
       "        vertical-align: top;\n",
       "    }\n",
       "\n",
       "    .dataframe thead th {\n",
       "        text-align: right;\n",
       "    }\n",
       "</style>\n",
       "<table border=\"1\" class=\"dataframe\">\n",
       "  <thead>\n",
       "    <tr style=\"text-align: right;\">\n",
       "      <th></th>\n",
       "      <th>Name</th>\n",
       "    </tr>\n",
       "  </thead>\n",
       "  <tbody>\n",
       "    <tr>\n",
       "      <th>0</th>\n",
       "      <td>University of Oxford</td>\n",
       "    </tr>\n",
       "    <tr>\n",
       "      <th>1</th>\n",
       "      <td>University of Cambridge</td>\n",
       "    </tr>\n",
       "    <tr>\n",
       "      <th>2</th>\n",
       "      <td>Imperial College London</td>\n",
       "    </tr>\n",
       "    <tr>\n",
       "      <th>3</th>\n",
       "      <td>ETH Zurich</td>\n",
       "    </tr>\n",
       "    <tr>\n",
       "      <th>4</th>\n",
       "      <td>UCL</td>\n",
       "    </tr>\n",
       "  </tbody>\n",
       "</table>\n",
       "</div>"
      ],
      "text/plain": [
       "                      Name\n",
       "0     University of Oxford\n",
       "1  University of Cambridge\n",
       "2  Imperial College London\n",
       "3               ETH Zurich\n",
       "4                      UCL"
      ]
     },
     "execution_count": 10,
     "metadata": {},
     "output_type": "execute_result"
    }
   ],
   "source": [
    "universities = pd.read_csv(r\"C:\\Users\\mugok\\Desktop\\Data sets\\top_universities.csv\")\n",
    "universities.head()"
   ]
  },
  {
   "cell_type": "code",
   "execution_count": 13,
   "metadata": {},
   "outputs": [
    {
     "name": "stdout",
     "output_type": "stream",
     "text": [
      "97.8021978021978% of addresses were geocoded!\n"
     ]
    }
   ],
   "source": [
    "def my_geocoder(row):\n",
    "    try:\n",
    "        point = geolocator.geocode(row).point\n",
    "        return pd.Series({'Latitude': point.latitude, 'Longitude': point.longitude})\n",
    "    except:\n",
    "        return None\n",
    "\n",
    "universities[['Latitude', 'Longitude']] = universities.apply(lambda x: my_geocoder(x['Name']), axis=1)\n",
    "\n",
    "print(\"{}% of addresses were geocoded!\".format(\n",
    "    (1 - sum(np.isnan(universities[\"Latitude\"])) / len(universities)) * 100))\n",
    "\n",
    "# Drop universities that were not successfully geocoded\n",
    "universities = universities.loc[~np.isnan(universities[\"Latitude\"])]\n",
    "universities = gpd.GeoDataFrame(\n",
    "    universities, geometry=gpd.points_from_xy(universities.Longitude, universities.Latitude))\n",
    "universities.crs = {'init': 'epsg:4326'}"
   ]
  },
  {
   "cell_type": "code",
   "execution_count": 23,
   "metadata": {},
   "outputs": [
    {
     "data": {
      "text/html": [
       "\n",
       "        <iframe\n",
       "            width=\"100%\"\n",
       "            height=\"500px\"\n",
       "            src=\"map.html\"\n",
       "            frameborder=\"0\"\n",
       "            allowfullscreen\n",
       "            \n",
       "        ></iframe>\n",
       "        "
      ],
      "text/plain": [
       "<IPython.lib.display.IFrame at 0x27c75a33ac0>"
      ]
     },
     "execution_count": 23,
     "metadata": {},
     "output_type": "execute_result"
    }
   ],
   "source": [
    "def embed_map(m, file_name):\n",
    "    from IPython.display import IFrame\n",
    "    m.save(file_name)\n",
    "    return IFrame(file_name, width='100%', height='500px')\n",
    "\n",
    "# Create a map\n",
    "m = folium.Map(location=[54, 15], tiles='openstreetmap', zoom_start=2)\n",
    "\n",
    "# Add points to the map\n",
    "for idx, row in universities.iterrows():\n",
    "    Marker([row['Latitude'], row['Longitude']], popup=row['Name']).add_to(m)\n",
    "\n",
    " #Display the map\n",
    "embed_map(m,'map.html')"
   ]
  }
 ],
 "metadata": {
  "kernelspec": {
   "display_name": "Python 3",
   "language": "python",
   "name": "python3"
  },
  "language_info": {
   "codemirror_mode": {
    "name": "ipython",
    "version": 3
   },
   "file_extension": ".py",
   "mimetype": "text/x-python",
   "name": "python",
   "nbconvert_exporter": "python",
   "pygments_lexer": "ipython3",
   "version": "3.10.7"
  },
  "orig_nbformat": 4
 },
 "nbformat": 4,
 "nbformat_minor": 2
}
